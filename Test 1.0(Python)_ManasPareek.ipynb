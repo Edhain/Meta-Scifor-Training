{
 "cells": [
  {
   "cell_type": "code",
   "execution_count": null,
   "id": "8019c971-b3c7-4de7-80b8-5f6429d76376",
   "metadata": {},
   "outputs": [],
   "source": [
    "# Jupyter Notebook for Python Basics Practice\n",
    "\n",
    "## Multiple-Choice Questions (MCQs)\n",
    "\n",
    "### Question 1\n",
    "# What is the output of the following code?\n",
    "# print(type(5.0))\n",
    "# a) int\n",
    "# b) float\n",
    "# c) str\n",
    "# d) list\n",
    "\n",
    "### Question 2\n",
    "# What is the correct syntax to output \"Hello World\" in Python?\n",
    "# a) echo \"Hello World\"\n",
    "# b) print(\"Hello World\")\n",
    "# c) printf(\"Hello World\")\n",
    "# d) System.out.println(\"Hello World\")\n",
    "\n",
    "### Question 3\n",
    "# Which of the following is a correct variable declaration in Python?\n",
    "# a) var x = 10\n",
    "# b) int x = 10\n",
    "# c) x = 10\n",
    "# d) declare x = 10\n",
    "\n",
    "### Question 4\n",
    "# What is the output of the following code?\n",
    "# print(2 ** 3)\n",
    "# a) 6\n",
    "# b) 8\n",
    "# c) 9\n",
    "# d) 12\n",
    "\n",
    "### Question 5\n",
    "# Which of the following is used to define a block of code in Python?\n",
    "# a) Curly braces\n",
    "# b) Parentheses\n",
    "# c) Indentation\n",
    "# d) Quotation marks\n",
    "\n",
    "### Question 6\n",
    "# How do you start a comment in Python?\n",
    "# a) //\n",
    "# b) /*\n",
    "# c) <!--\n",
    "# d) #\n",
    "\n",
    "### Question 7\n",
    "# What is the output of the following code?\n",
    "# print(\"Hello\" + \" \" + \"World\")\n",
    "# a) Hello World\n",
    "# b) HelloWorld\n",
    "# c) Hello+World\n",
    "# d) Error\n",
    "\n",
    "### Question 8\n",
    "# Which of the following is the correct way to create a list in Python?\n",
    "# a) list = [1, 2, 3]\n",
    "# b) list = (1, 2, 3)\n",
    "# c) list = {1, 2, 3}\n",
    "# d) list = 1, 2, 3\n",
    "\n",
    "### Question 9\n",
    "# What is the output of the following code?\n",
    "# a = [1, 2, 3]\n",
    "# print(len(a))\n",
    "# a) 2\n",
    "# b) 3\n",
    "# c) 4\n",
    "# d) Error\n",
    "\n",
    "### Question 10\n",
    "# Which of the following statements is true?\n",
    "# a) A tuple is mutable\n",
    "# b) A list is immutable\n",
    "# c) A tuple is immutable\n",
    "# d) A list is immutable and a tuple is mutable\n",
    "\n",
    "### Question 11\n",
    "# What will be the output of the following code?\n",
    "# x = 10\n",
    "# if x > 5:\n",
    "#     print(\"Greater\")\n",
    "# else:\n",
    "#     print(\"Smaller\")\n",
    "# a) Greater\n",
    "# b) Smaller\n",
    "# c) Error\n",
    "# d) None of the above\n",
    "\n",
    "### Question 12\n",
    "# How do you create a dictionary in Python?\n",
    "# a) dict = [1, 2, 3]\n",
    "# b) dict = {1, 2, 3}\n",
    "# c) dict = {\"one\": 1, \"two\": 2, \"three\": 3}\n",
    "# d) dict = (1, 2, 3)\n",
    "\n",
    "### Question 13\n",
    "# What is the output of the following code?\n",
    "# x = [1, 2, 3, 4]\n",
    "# print(x[1:3])\n",
    "# a) [1, 2]\n",
    "# b) [2, 3]\n",
    "# c) [3, 4]\n",
    "# d) [2, 3, 4]\n",
    "\n",
    "### Question 14\n",
    "# Which of the following methods can be used to add an element to a list?\n",
    "# a) append()\n",
    "# b) add()\n",
    "# c) insert()\n",
    "# d) extend()\n",
    "\n",
    "### Question 15\n",
    "# What is the correct way to handle exceptions in Python?\n",
    "# a) try-except\n",
    "# b) try-catch\n",
    "# c) do-except\n",
    "# d) do-catch\n",
    "\n",
    "---\n",
    "\n",
    "## Practice Questions\n",
    "\n",
    "### Question 1\n",
    "# Write a Python program to check if a number is even or odd.\n",
    "\n",
    "number = int(input(\"Enter a number: \"))\n",
    "if number % 2 == 0:\n",
    "    print(f\"{number} is even.\")\n",
    "else:\n",
    "    print(f\"{number} is odd.\")\n",
    "\n",
    "### Question 2\n",
    "# Write a Python program to find the factorial of a given number using a loop.\n",
    "\n",
    "def factorial(n):\n",
    "    result = 1\n",
    "    for i in range(1, n + 1):\n",
    "        result *= i\n",
    "    return result\n",
    "\n",
    "number = int(input(\"Enter a number: \"))\n",
    "print(f\"Factorial of {number} is {factorial(number)}.\")\n",
    "\n",
    "### Question 3\n",
    "# Write a Python program to create a list of the first 10 natural numbers and then print each number.\n",
    "\n",
    "natural_numbers = list(range(1, 11))\n",
    "for number in natural_numbers:\n",
    "    print(number)\n",
    "\n",
    "### Question 4\n",
    "# Write a Python program to calculate the sum of all numbers in a list.\n",
    "\n",
    "numbers = [1, 2, 3, 4, 5]\n",
    "print(f\"Sum of the list is {sum(numbers)}.\")\n",
    "\n",
    "### Question 5\n",
    "# Write a Python program to reverse a string.\n",
    "\n",
    "string = input(\"Enter a string: \")\n",
    "reversed_string = string[::-1]\n",
    "print(f\"Reversed string is: {reversed_string}\")\n",
    "\n",
    "### Question 6\n",
    "# Write a Python program to find the largest number in a list.\n",
    "\n",
    "numbers = [1, 2, 3, 4, 5]\n",
    "print(f\"Largest number in the list is {max(numbers)}.\")\n",
    "\n",
    "### Question 7\n",
    "# Write a Python program to print the multiplication table of any number provided by the user.\n",
    "\n",
    "number = int(input(\"Enter a number: \"))\n",
    "for i in range(1, 11):\n",
    "    print(f\"{number} x {i} = {number * i}\")\n",
    "\n",
    "### Question 8\n",
    "# Write a Python program to count the number of vowels in a string.\n",
    "\n",
    "vowels = \"aeiouAEIOU\"\n",
    "string = input(\"Enter a string: \")\n",
    "count = sum(1 for char in string if char in vowels)\n",
    "print(f\"Number of vowels in the string is: {count}\")\n",
    "\n",
    "### Question 9\n",
    "# Write a Python program to convert a list of tuples into a dictionary.\n",
    "\n",
    "tuples = [(\"one\", 1), (\"two\", 2), (\"three\", 3)]\n",
    "dictionary = dict(tuples)\n",
    "print(f\"Converted dictionary: {dictionary}\")\n",
    "\n",
    "### Question 10\n",
    "# Write a Python program to check if a given string is a palindrome.\n",
    "\n",
    "string = input(\"Enter a string: \")\n",
    "is_palindrome = string == string[::-1]\n",
    "print(f\"The string is a palindrome: {is_palindrome}\")\n"
   ]
  },
  {
   "cell_type": "markdown",
   "id": "691a7889-6bcf-4752-8109-0c1e236a60e9",
   "metadata": {},
   "source": [
    "## Multiple-Choice Questions (MCQs)"
   ]
  },
  {
   "cell_type": "markdown",
   "id": "bc7aa7c9-417f-4e35-8d1a-fa3eb25a51ed",
   "metadata": {},
   "source": [
    "Answer 1- b) float"
   ]
  },
  {
   "cell_type": "markdown",
   "id": "5538f194-50a3-4d60-8fdf-54c41eec60bd",
   "metadata": {},
   "source": [
    "Answer 2- b) print(Hello World)"
   ]
  },
  {
   "cell_type": "markdown",
   "id": "94d5e6ab-5b04-48c4-ad15-c0ac0ef0c36b",
   "metadata": {},
   "source": [
    "\n",
    "Answer32 -c) x = 10"
   ]
  },
  {
   "cell_type": "markdown",
   "id": "039703ed-69a4-4ebf-af27-b0e4b504ccbc",
   "metadata": {},
   "source": [
    "Answer 4- b) 8"
   ]
  },
  {
   "cell_type": "markdown",
   "id": "28488475-828b-44a9-bca1-0621653e9fa8",
   "metadata": {},
   "source": [
    "Answer 5- c) Indentation"
   ]
  },
  {
   "cell_type": "markdown",
   "id": "5f9ae340-9491-44b0-92ac-cebb7cc7f203",
   "metadata": {},
   "source": [
    "Answer 6- d) #"
   ]
  },
  {
   "cell_type": "markdown",
   "id": "d3d62b6d-0bec-44b0-830f-8d611ee4ebc1",
   "metadata": {},
   "source": [
    "Answer 7- a) Hello World"
   ]
  },
  {
   "cell_type": "markdown",
   "id": "90b0546f-0bd4-49b1-8b52-24705f825d60",
   "metadata": {},
   "source": [
    "Answer 8- a) list = [1, 2, 3]"
   ]
  },
  {
   "cell_type": "markdown",
   "id": "f9d161f0-730f-4ec6-9400-434a890162fb",
   "metadata": {},
   "source": [
    "Answer 9- b) 3"
   ]
  },
  {
   "cell_type": "markdown",
   "id": "c277b211-c539-45cd-94dd-6abea4eeff4e",
   "metadata": {},
   "source": [
    "Answer 10- c) A tuple is immutable"
   ]
  },
  {
   "cell_type": "markdown",
   "id": "94422665-98c9-49b2-927a-4a3abd9e39fd",
   "metadata": {},
   "source": [
    "Answer 11- a) Greater"
   ]
  },
  {
   "cell_type": "markdown",
   "id": "ebbcb02b-3816-4fff-8926-600ea5f6dcb1",
   "metadata": {},
   "source": [
    "Answer 12- c) dict = {\"one\": 1, \"two\": 2, \"three\": 3}"
   ]
  },
  {
   "cell_type": "markdown",
   "id": "6080f1ac-f411-492c-ae39-0c1cf00da669",
   "metadata": {},
   "source": [
    "Answer 13- b) [2, 3]"
   ]
  },
  {
   "cell_type": "markdown",
   "id": "86492bf2-7697-44c1-aa7b-da6930056682",
   "metadata": {},
   "source": [
    "Answer 14- a) append(), d) extend()"
   ]
  },
  {
   "cell_type": "markdown",
   "id": "3197eb4f-2d08-430d-8518-a76298c21581",
   "metadata": {},
   "source": [
    "Answer 15- a) try-except"
   ]
  },
  {
   "cell_type": "markdown",
   "id": "b6bbea0b-5fb1-4e1a-ab80-32d9cb70d1b5",
   "metadata": {},
   "source": [
    "## Practice Questions"
   ]
  },
  {
   "cell_type": "code",
   "execution_count": null,
   "id": "c220c524-807d-4dd3-b098-d0893bb571b9",
   "metadata": {},
   "outputs": [],
   "source": [
    "#Answer 1\n",
    "number = int(input(\"Enter a number: \"))\n",
    "if number % 2 == 0:\n",
    "    print(f\"{number} is even.\")\n",
    "else:\n",
    "    print(f\"{number} is odd.\")"
   ]
  },
  {
   "cell_type": "code",
   "execution_count": null,
   "id": "eb5971ea-5ca8-44b2-8eec-d8b3dbe1da9b",
   "metadata": {},
   "outputs": [],
   "source": [
    "#Answer 2\n",
    "def factorial(x):\n",
    "    if x == 1:\n",
    "        return 1\n",
    "    else:\n",
    "        return (x * factorial(x-1))\n",
    "number = int(input(\"Enter a number: \"))\n",
    "print(f\"Factorial of {number} is {factorial(number)}.\")"
   ]
  },
  {
   "cell_type": "code",
   "execution_count": null,
   "id": "6eece72f-0644-459f-8c52-c17e062833b3",
   "metadata": {},
   "outputs": [],
   "source": [
    "#Answer 3\n",
    "natural_numbers = list(range(1, 11))\n",
    "for number in natural_numbers:\n",
    "    print(number)"
   ]
  },
  {
   "cell_type": "code",
   "execution_count": null,
   "id": "3e33e43e-9dc4-4dda-b5c4-240d17dea014",
   "metadata": {},
   "outputs": [],
   "source": [
    "#Answer 4\n",
    "numbers = [1, 2, 3, 4, 5]\n",
    "print(f\"Sum of the list is {sum(numbers)}.\")"
   ]
  },
  {
   "cell_type": "code",
   "execution_count": null,
   "id": "3d9d1858-4ac0-444d-97d0-a1eddff7f6bb",
   "metadata": {},
   "outputs": [],
   "source": [
    "#Answer 5\n",
    "string = input(\"Enter a string: \")\n",
    "reversed_string = string[::-1]\n",
    "print(f\"Reversed string is: {reversed_string}\")"
   ]
  },
  {
   "cell_type": "code",
   "execution_count": null,
   "id": "3919cee5-7c56-484b-b155-01a2ee957d74",
   "metadata": {},
   "outputs": [],
   "source": [
    "#Answer 6\n",
    "numbers = [1, 2, 3, 4, 5]\n",
    "print(f\"Largest number in the list is {max(numbers)}.\")"
   ]
  },
  {
   "cell_type": "code",
   "execution_count": null,
   "id": "9f5e8589-cbc4-462b-9216-777e171f1c69",
   "metadata": {},
   "outputs": [],
   "source": [
    "#Answer 7\n",
    "num = int(input(\"Enter a number for a table:\"))\n",
    "for i in range(1,11):\n",
    "    print(f\"{num} x {i} \\t= {num*i}\")"
   ]
  },
  {
   "cell_type": "code",
   "execution_count": null,
   "id": "7a58d78b-9717-4bf2-b7af-f1148d59028e",
   "metadata": {},
   "outputs": [],
   "source": [
    "#Answer 8\n",
    "vowels = \"aeiouAEIOU\"\n",
    "string = input(\"Enter a string: \")\n",
    "count = sum(1 for char in string if char in vowels)\n",
    "print(f\"Number of vowels in the string is: {count}\")"
   ]
  },
  {
   "cell_type": "code",
   "execution_count": null,
   "id": "fa7f6017-d186-4b58-9cac-61c7b12d1bc3",
   "metadata": {},
   "outputs": [],
   "source": [
    "#Answer 9\n",
    "tuples = [(\"one\", 1), (\"two\", 2), (\"three\", 3)]\n",
    "dictionary = dict(tuples)\n",
    "print(f\"Converted dictionary: {dictionary}\")"
   ]
  },
  {
   "cell_type": "code",
   "execution_count": null,
   "id": "823d5369-51c9-40a9-8d74-2d4b864bc46a",
   "metadata": {},
   "outputs": [],
   "source": [
    "#Answer 10\n",
    "string = input(\"Enter a string: \")\n",
    "is_palindrome = string == string[::-1]\n",
    "print(f\"The string is a palindrome: {is_palindrome}\")"
   ]
  }
 ],
 "metadata": {
  "kernelspec": {
   "display_name": "Python 3 (ipykernel)",
   "language": "python",
   "name": "python3"
  },
  "language_info": {
   "codemirror_mode": {
    "name": "ipython",
    "version": 3
   },
   "file_extension": ".py",
   "mimetype": "text/x-python",
   "name": "python",
   "nbconvert_exporter": "python",
   "pygments_lexer": "ipython3",
   "version": "3.11.7"
  },
  "widgets": {
   "application/vnd.jupyter.widget-state+json": {
    "state": {},
    "version_major": 2,
    "version_minor": 0
   }
  }
 },
 "nbformat": 4,
 "nbformat_minor": 5
}
